{
 "cells": [
  {
   "cell_type": "code",
   "execution_count": 2,
   "metadata": {},
   "outputs": [],
   "source": [
    "import numpy as np \n",
    "import pandas as pd\n",
    "import matplotlib.pyplot as plt\n",
    "from dateutil.parser import parse\n",
    " \n",
    "import missingno as msno"
   ]
  },
  {
   "cell_type": "code",
   "execution_count": 3,
   "metadata": {},
   "outputs": [
    {
     "data": {
      "text/html": [
       "<div>\n",
       "<style scoped>\n",
       "    .dataframe tbody tr th:only-of-type {\n",
       "        vertical-align: middle;\n",
       "    }\n",
       "\n",
       "    .dataframe tbody tr th {\n",
       "        vertical-align: top;\n",
       "    }\n",
       "\n",
       "    .dataframe thead th {\n",
       "        text-align: right;\n",
       "    }\n",
       "</style>\n",
       "<table border=\"1\" class=\"dataframe\">\n",
       "  <thead>\n",
       "    <tr style=\"text-align: right;\">\n",
       "      <th></th>\n",
       "      <th>Ti</th>\n",
       "    </tr>\n",
       "    <tr>\n",
       "      <th>tiempo</th>\n",
       "      <th></th>\n",
       "    </tr>\n",
       "  </thead>\n",
       "  <tbody>\n",
       "    <tr>\n",
       "      <th>2019-06-08 00:00:00</th>\n",
       "      <td>25.348056</td>\n",
       "    </tr>\n",
       "    <tr>\n",
       "      <th>2019-06-08 00:00:20</th>\n",
       "      <td>25.354979</td>\n",
       "    </tr>\n",
       "    <tr>\n",
       "      <th>2019-06-08 00:00:40</th>\n",
       "      <td>25.359593</td>\n",
       "    </tr>\n",
       "    <tr>\n",
       "      <th>2019-06-08 00:01:00</th>\n",
       "      <td>25.348056</td>\n",
       "    </tr>\n",
       "    <tr>\n",
       "      <th>2019-06-08 00:01:20</th>\n",
       "      <td>25.351517</td>\n",
       "    </tr>\n",
       "    <tr>\n",
       "      <th>...</th>\n",
       "      <td>...</td>\n",
       "    </tr>\n",
       "    <tr>\n",
       "      <th>2019-07-28 23:58:20</th>\n",
       "      <td>24.798895</td>\n",
       "    </tr>\n",
       "    <tr>\n",
       "      <th>2019-07-28 23:58:40</th>\n",
       "      <td>24.802356</td>\n",
       "    </tr>\n",
       "    <tr>\n",
       "      <th>2019-07-28 23:59:00</th>\n",
       "      <td>24.673142</td>\n",
       "    </tr>\n",
       "    <tr>\n",
       "      <th>2019-07-28 23:59:20</th>\n",
       "      <td>24.567001</td>\n",
       "    </tr>\n",
       "    <tr>\n",
       "      <th>2019-07-28 23:59:40</th>\n",
       "      <td>24.305112</td>\n",
       "    </tr>\n",
       "  </tbody>\n",
       "</table>\n",
       "<p>32776 rows × 1 columns</p>\n",
       "</div>"
      ],
      "text/plain": [
       "                            Ti\n",
       "tiempo                        \n",
       "2019-06-08 00:00:00  25.348056\n",
       "2019-06-08 00:00:20  25.354979\n",
       "2019-06-08 00:00:40  25.359593\n",
       "2019-06-08 00:01:00  25.348056\n",
       "2019-06-08 00:01:20  25.351517\n",
       "...                        ...\n",
       "2019-07-28 23:58:20  24.798895\n",
       "2019-07-28 23:58:40  24.802356\n",
       "2019-07-28 23:59:00  24.673142\n",
       "2019-07-28 23:59:20  24.567001\n",
       "2019-07-28 23:59:40  24.305112\n",
       "\n",
       "[32776 rows x 1 columns]"
      ]
     },
     "execution_count": 3,
     "metadata": {},
     "output_type": "execute_result"
    }
   ],
   "source": [
    "medidos = pd.read_csv('../data/weekends.csv',index_col=0,parse_dates=True,names=['tiempo','Ti'],skiprows=1) \n",
    "medidos"
   ]
  },
  {
   "cell_type": "code",
   "execution_count": 4,
   "metadata": {},
   "outputs": [
    {
     "data": {
      "text/plain": [
       "<matplotlib.collections.PathCollection at 0x2000fb5a2b0>"
      ]
     },
     "execution_count": 4,
     "metadata": {},
     "output_type": "execute_result"
    },
    {
     "data": {
      "image/png": "[encoded data removed]",
      "text/plain": [
       "<Figure size 864x288 with 1 Axes>"
      ]
     },
     "metadata": {
      "needs_background": "light"
     },
     "output_type": "display_data"
    }
   ],
   "source": [
    "fig, ax = plt.subplots(figsize=(12,4))\n",
    "\n",
    "ax.scatter(medidos.index,medidos.Ti)"
   ]
  },
  {
   "cell_type": "code",
   "execution_count": 5,
   "metadata": {},
   "outputs": [
    {
     "data": {
      "text/html": [
       "<div>\n",
       "<style scoped>\n",
       "    .dataframe tbody tr th:only-of-type {\n",
       "        vertical-align: middle;\n",
       "    }\n",
       "\n",
       "    .dataframe tbody tr th {\n",
       "        vertical-align: top;\n",
       "    }\n",
       "\n",
       "    .dataframe thead th {\n",
       "        text-align: right;\n",
       "    }\n",
       "</style>\n",
       "<table border=\"1\" class=\"dataframe\">\n",
       "  <thead>\n",
       "    <tr style=\"text-align: right;\">\n",
       "      <th></th>\n",
       "      <th>Ti_s</th>\n",
       "    </tr>\n",
       "    <tr>\n",
       "      <th>tiempo</th>\n",
       "      <th></th>\n",
       "    </tr>\n",
       "  </thead>\n",
       "  <tbody>\n",
       "    <tr>\n",
       "      <th>2019-01-01 00:10:00</th>\n",
       "      <td>27.012219</td>\n",
       "    </tr>\n",
       "    <tr>\n",
       "      <th>2019-01-01 00:20:00</th>\n",
       "      <td>26.986947</td>\n",
       "    </tr>\n",
       "    <tr>\n",
       "      <th>2019-01-01 00:30:00</th>\n",
       "      <td>26.960868</td>\n",
       "    </tr>\n",
       "    <tr>\n",
       "      <th>2019-01-01 00:40:00</th>\n",
       "      <td>26.933980</td>\n",
       "    </tr>\n",
       "    <tr>\n",
       "      <th>2019-01-01 00:50:00</th>\n",
       "      <td>26.906333</td>\n",
       "    </tr>\n",
       "    <tr>\n",
       "      <th>...</th>\n",
       "      <td>...</td>\n",
       "    </tr>\n",
       "    <tr>\n",
       "      <th>2019-12-31 23:20:00</th>\n",
       "      <td>27.359864</td>\n",
       "    </tr>\n",
       "    <tr>\n",
       "      <th>2019-12-31 23:30:00</th>\n",
       "      <td>27.339472</td>\n",
       "    </tr>\n",
       "    <tr>\n",
       "      <th>2019-12-31 23:40:00</th>\n",
       "      <td>27.317542</td>\n",
       "    </tr>\n",
       "    <tr>\n",
       "      <th>2019-12-31 23:50:00</th>\n",
       "      <td>27.294175</td>\n",
       "    </tr>\n",
       "    <tr>\n",
       "      <th>2019-12-31 23:59:59</th>\n",
       "      <td>27.269379</td>\n",
       "    </tr>\n",
       "  </tbody>\n",
       "</table>\n",
       "<p>52560 rows × 1 columns</p>\n",
       "</div>"
      ],
      "text/plain": [
       "                          Ti_s\n",
       "tiempo                        \n",
       "2019-01-01 00:10:00  27.012219\n",
       "2019-01-01 00:20:00  26.986947\n",
       "2019-01-01 00:30:00  26.960868\n",
       "2019-01-01 00:40:00  26.933980\n",
       "2019-01-01 00:50:00  26.906333\n",
       "...                        ...\n",
       "2019-12-31 23:20:00  27.359864\n",
       "2019-12-31 23:30:00  27.339472\n",
       "2019-12-31 23:40:00  27.317542\n",
       "2019-12-31 23:50:00  27.294175\n",
       "2019-12-31 23:59:59  27.269379\n",
       "\n",
       "[52560 rows x 1 columns]"
      ]
     },
     "execution_count": 5,
     "metadata": {},
     "output_type": "execute_result"
    }
   ],
   "source": [
    "eplus = pd.read_csv('../idf/horario_02.csv',names=['tiempo','equipo','Ti_s'],skiprows=1)\n",
    "eplus.tiempo = eplus.tiempo.str.replace('24:00:00','23:59:59')\n",
    "eplus.tiempo = '2019 ' + eplus.tiempo\n",
    "eplus.tiempo = pd.to_datetime(eplus.tiempo,format='%Y %m/%d %H:%M:%S')\n",
    "eplus.set_index('tiempo',inplace=True)\n",
    "del eplus['equipo']\n",
    "eplus"
   ]
  },
  {
   "cell_type": "code",
   "execution_count": 11,
   "metadata": {},
   "outputs": [
    {
     "data": {
      "text/html": [
       "<div>\n",
       "<style scoped>\n",
       "    .dataframe tbody tr th:only-of-type {\n",
       "        vertical-align: middle;\n",
       "    }\n",
       "\n",
       "    .dataframe tbody tr th {\n",
       "        vertical-align: top;\n",
       "    }\n",
       "\n",
       "    .dataframe thead th {\n",
       "        text-align: right;\n",
       "    }\n",
       "</style>\n",
       "<table border=\"1\" class=\"dataframe\">\n",
       "  <thead>\n",
       "    <tr style=\"text-align: right;\">\n",
       "      <th></th>\n",
       "      <th>Ti</th>\n",
       "      <th>Ti_s</th>\n",
       "    </tr>\n",
       "    <tr>\n",
       "      <th>tiempo</th>\n",
       "      <th></th>\n",
       "      <th></th>\n",
       "    </tr>\n",
       "  </thead>\n",
       "  <tbody>\n",
       "    <tr>\n",
       "      <th>2019-01-01 00:10:00</th>\n",
       "      <td>NaN</td>\n",
       "      <td>27.012219</td>\n",
       "    </tr>\n",
       "    <tr>\n",
       "      <th>2019-01-01 00:20:00</th>\n",
       "      <td>NaN</td>\n",
       "      <td>26.986947</td>\n",
       "    </tr>\n",
       "    <tr>\n",
       "      <th>2019-01-01 00:30:00</th>\n",
       "      <td>NaN</td>\n",
       "      <td>26.960868</td>\n",
       "    </tr>\n",
       "    <tr>\n",
       "      <th>2019-01-01 00:40:00</th>\n",
       "      <td>NaN</td>\n",
       "      <td>26.933980</td>\n",
       "    </tr>\n",
       "    <tr>\n",
       "      <th>2019-01-01 00:50:00</th>\n",
       "      <td>NaN</td>\n",
       "      <td>26.906333</td>\n",
       "    </tr>\n",
       "    <tr>\n",
       "      <th>...</th>\n",
       "      <td>...</td>\n",
       "      <td>...</td>\n",
       "    </tr>\n",
       "    <tr>\n",
       "      <th>2019-12-31 23:20:00</th>\n",
       "      <td>NaN</td>\n",
       "      <td>27.359864</td>\n",
       "    </tr>\n",
       "    <tr>\n",
       "      <th>2019-12-31 23:30:00</th>\n",
       "      <td>NaN</td>\n",
       "      <td>27.339472</td>\n",
       "    </tr>\n",
       "    <tr>\n",
       "      <th>2019-12-31 23:40:00</th>\n",
       "      <td>NaN</td>\n",
       "      <td>27.317542</td>\n",
       "    </tr>\n",
       "    <tr>\n",
       "      <th>2019-12-31 23:50:00</th>\n",
       "      <td>NaN</td>\n",
       "      <td>27.294175</td>\n",
       "    </tr>\n",
       "    <tr>\n",
       "      <th>2019-12-31 23:59:59</th>\n",
       "      <td>NaN</td>\n",
       "      <td>27.269379</td>\n",
       "    </tr>\n",
       "  </tbody>\n",
       "</table>\n",
       "<p>84419 rows × 2 columns</p>\n",
       "</div>"
      ],
      "text/plain": [
       "                     Ti       Ti_s\n",
       "tiempo                            \n",
       "2019-01-01 00:10:00 NaN  27.012219\n",
       "2019-01-01 00:20:00 NaN  26.986947\n",
       "2019-01-01 00:30:00 NaN  26.960868\n",
       "2019-01-01 00:40:00 NaN  26.933980\n",
       "2019-01-01 00:50:00 NaN  26.906333\n",
       "...                  ..        ...\n",
       "2019-12-31 23:20:00 NaN  27.359864\n",
       "2019-12-31 23:30:00 NaN  27.339472\n",
       "2019-12-31 23:40:00 NaN  27.317542\n",
       "2019-12-31 23:50:00 NaN  27.294175\n",
       "2019-12-31 23:59:59 NaN  27.269379\n",
       "\n",
       "[84419 rows x 2 columns]"
      ]
     },
     "execution_count": 11,
     "metadata": {},
     "output_type": "execute_result"
    }
   ],
   "source": [
    "compara  = pd.concat([medidos,eplus],axis=1)\n",
    "compara"
   ]
  },
  {
   "cell_type": "code",
   "execution_count": 13,
   "metadata": {},
   "outputs": [
    {
     "data": {
      "image/png": "[encoded data removed]",
      "text/plain": [
       "<Figure size 864x288 with 1 Axes>"
      ]
     },
     "metadata": {
      "needs_background": "light"
     },
     "output_type": "display_data"
    }
   ],
   "source": [
    "fig, ax = plt.subplots(figsize=(12,4))\n",
    "\n",
    "fecha1 = parse('2019-06-22')\n",
    "fecha2 = fecha1 + pd.Timedelta('2D')\n",
    "ax.set_xlim(fecha1,fecha2)\n",
    "ax.scatter(compara.index,compara.Ti)\n",
    "ax.scatter(compara.index,compara.Ti_s)\n",
    "fin1 = compara[fecha1:fecha2]"
   ]
  },
  {
   "cell_type": "code",
   "execution_count": 14,
   "metadata": {},
   "outputs": [
    {
     "data": {
      "image/png": "[encoded data removed]",
      "text/plain": [
       "<Figure size 864x288 with 1 Axes>"
      ]
     },
     "metadata": {
      "needs_background": "light"
     },
     "output_type": "display_data"
    }
   ],
   "source": [
    "fig, ax = plt.subplots(figsize=(12,4))\n",
    "\n",
    "fecha1 = parse('2019-07-27')\n",
    "fecha2 = fecha1 + pd.Timedelta('2D')\n",
    "ax.set_xlim(fecha1,fecha2)\n",
    "ax.scatter(compara.index,compara.Ti,label='Ti')\n",
    "ax.scatter(compara.index,compara.Ti_s,label='Tis')\n",
    "ax.legend()\n",
    "\n",
    "fin2 = compara[fecha1:fecha2]"
   ]
  },
  {
   "cell_type": "code",
   "execution_count": null,
   "metadata": {},
   "outputs": [],
   "source": [
    "msno.matrix(compara)"
   ]
  },
  {
   "cell_type": "code",
   "execution_count": 16,
   "metadata": {},
   "outputs": [
    {
     "data": {
      "text/html": [
       "<div>\n",
       "<style scoped>\n",
       "    .dataframe tbody tr th:only-of-type {\n",
       "        vertical-align: middle;\n",
       "    }\n",
       "\n",
       "    .dataframe tbody tr th {\n",
       "        vertical-align: top;\n",
       "    }\n",
       "\n",
       "    .dataframe thead th {\n",
       "        text-align: right;\n",
       "    }\n",
       "</style>\n",
       "<table border=\"1\" class=\"dataframe\">\n",
       "  <thead>\n",
       "    <tr style=\"text-align: right;\">\n",
       "      <th></th>\n",
       "      <th>Ti</th>\n",
       "      <th>Ti_s</th>\n",
       "    </tr>\n",
       "    <tr>\n",
       "      <th>tiempo</th>\n",
       "      <th></th>\n",
       "      <th></th>\n",
       "    </tr>\n",
       "  </thead>\n",
       "  <tbody>\n",
       "    <tr>\n",
       "      <th>2019-06-22 00:00:00</th>\n",
       "      <td>27.865430</td>\n",
       "      <td>NaN</td>\n",
       "    </tr>\n",
       "    <tr>\n",
       "      <th>2019-06-22 00:00:20</th>\n",
       "      <td>27.861969</td>\n",
       "      <td>NaN</td>\n",
       "    </tr>\n",
       "    <tr>\n",
       "      <th>2019-06-22 00:00:40</th>\n",
       "      <td>27.873506</td>\n",
       "      <td>NaN</td>\n",
       "    </tr>\n",
       "    <tr>\n",
       "      <th>2019-06-22 00:01:00</th>\n",
       "      <td>27.855047</td>\n",
       "      <td>NaN</td>\n",
       "    </tr>\n",
       "    <tr>\n",
       "      <th>2019-06-22 00:01:20</th>\n",
       "      <td>27.873506</td>\n",
       "      <td>NaN</td>\n",
       "    </tr>\n",
       "    <tr>\n",
       "      <th>...</th>\n",
       "      <td>...</td>\n",
       "      <td>...</td>\n",
       "    </tr>\n",
       "    <tr>\n",
       "      <th>2019-07-28 23:58:40</th>\n",
       "      <td>24.802356</td>\n",
       "      <td>NaN</td>\n",
       "    </tr>\n",
       "    <tr>\n",
       "      <th>2019-07-28 23:59:00</th>\n",
       "      <td>24.673142</td>\n",
       "      <td>NaN</td>\n",
       "    </tr>\n",
       "    <tr>\n",
       "      <th>2019-07-28 23:59:20</th>\n",
       "      <td>24.567001</td>\n",
       "      <td>NaN</td>\n",
       "    </tr>\n",
       "    <tr>\n",
       "      <th>2019-07-28 23:59:40</th>\n",
       "      <td>24.305112</td>\n",
       "      <td>NaN</td>\n",
       "    </tr>\n",
       "    <tr>\n",
       "      <th>2019-07-28 23:59:59</th>\n",
       "      <td>NaN</td>\n",
       "      <td>28.36298</td>\n",
       "    </tr>\n",
       "  </tbody>\n",
       "</table>\n",
       "<p>17284 rows × 2 columns</p>\n",
       "</div>"
      ],
      "text/plain": [
       "                            Ti      Ti_s\n",
       "tiempo                                  \n",
       "2019-06-22 00:00:00  27.865430       NaN\n",
       "2019-06-22 00:00:20  27.861969       NaN\n",
       "2019-06-22 00:00:40  27.873506       NaN\n",
       "2019-06-22 00:01:00  27.855047       NaN\n",
       "2019-06-22 00:01:20  27.873506       NaN\n",
       "...                        ...       ...\n",
       "2019-07-28 23:58:40  24.802356       NaN\n",
       "2019-07-28 23:59:00  24.673142       NaN\n",
       "2019-07-28 23:59:20  24.567001       NaN\n",
       "2019-07-28 23:59:40  24.305112       NaN\n",
       "2019-07-28 23:59:59        NaN  28.36298\n",
       "\n",
       "[17284 rows x 2 columns]"
      ]
     },
     "execution_count": 16,
     "metadata": {},
     "output_type": "execute_result"
    }
   ],
   "source": [
    "analisis = pd.concat([fin1,fin2],axis=0)\n",
    "analisis"
   ]
  },
  {
   "cell_type": "code",
   "execution_count": 27,
   "metadata": {},
   "outputs": [
    {
     "data": {
      "text/plain": [
       "<matplotlib.collections.PathCollection at 0x200121adc70>"
      ]
     },
     "execution_count": 27,
     "metadata": {},
     "output_type": "execute_result"
    },
    {
     "data": {
      "image/png": "[encoded data removed]",
      "text/plain": [
       "<Figure size 864x288 with 1 Axes>"
      ]
     },
     "metadata": {
      "needs_background": "light"
     },
     "output_type": "display_data"
    }
   ],
   "source": [
    "fig, ax = plt.subplots(figsize=(12,4))\n",
    "\n",
    "fecha1 = parse('2019-06-22')\n",
    "fecha2 = fecha1 + pd.Timedelta('37D')\n",
    "ax.set_xlim(fecha1,fecha2)\n",
    "ax.scatter(analisis.index,analisis.Ti)\n",
    "ax.scatter(analisis.index,analisis.Ti_s)\n"
   ]
  },
  {
   "cell_type": "code",
   "execution_count": 26,
   "metadata": {},
   "outputs": [],
   "source": [
    "analisis.sort_index(inplace=True)"
   ]
  },
  {
   "cell_type": "code",
   "execution_count": 28,
   "metadata": {},
   "outputs": [],
   "source": [
    "analisis.to_csv('../data/analisis.csv')"
   ]
  },
  {
   "cell_type": "code",
   "execution_count": null,
   "metadata": {},
   "outputs": [],
   "source": []
  }
 ],
 "metadata": {
  "kernelspec": {
   "display_name": "Python 3",
   "language": "python",
   "name": "python3"
  },
  "language_info": {
   "codemirror_mode": {
    "name": "ipython",
    "version": 3
   },
   "file_extension": ".py",
   "mimetype": "text/x-python",
   "name": "python",
   "nbconvert_exporter": "python",
   "pygments_lexer": "ipython3",
   "version": "3.8.7"
  }
 },
 "nbformat": 4,
 "nbformat_minor": 4
}
