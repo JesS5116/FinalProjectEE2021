{
 "cells": [
  {
   "cell_type": "code",
   "execution_count": 1,
   "id": "f316c4f4",
   "metadata": {},
   "outputs": [],
   "source": [
    "import numpy as np \n",
    "import pandas as pd\n",
    "import matplotlib.pyplot as plt\n",
    "from dateutil.parser import parse"
   ]
  },
  {
   "cell_type": "code",
   "execution_count": 2,
   "id": "381f0875",
   "metadata": {},
   "outputs": [],
   "source": [
    "def plot_weekend(data,fecha1):\n",
    "    fig, ax = plt.subplots(figsize=(12,4))\n",
    "\n",
    "    fecha1 = parse(fecha1) - pd.Timedelta('1D')\n",
    "    fecha2 = fecha1 + pd.Timedelta('4D')\n",
    "    ax.set_xlim(fecha1,fecha2)\n",
    "\n",
    "    ax.scatter(data.index,data.TCAire)"
   ]
  },
  {
   "cell_type": "code",
   "execution_count": 3,
   "id": "9e2c83c1",
   "metadata": {},
   "outputs": [],
   "source": [
    "# Datos de mediciones de fin de semana\n",
    "weekend_data = pd.read_csv('../data/weekends.csv',index_col=0,parse_dates=True)"
   ]
  },
  {
   "cell_type": "code",
   "execution_count": 4,
   "id": "eaa04862",
   "metadata": {},
   "outputs": [
    {
     "name": "stdout",
     "output_type": "stream",
     "text": [
      "0 Date/Time\n",
      "1 Environment:Site Outdoor Air Drybulb Temperature [C](TimeStep)\n",
      "2 THERMAL ZONE: JORGE:Zone Mean Air Temperature [C](TimeStep)\n"
     ]
    }
   ],
   "source": [
    "nombres = np.genfromtxt('../idf/cubiculo_original/cubiculo.csv',dtype='U',delimiter=',',max_rows=1,)\n",
    "nombres\n",
    "\n",
    "for i,nombre in enumerate(nombres):\n",
    "    print(i,nombre)\n",
    "    \n",
    "nombres[0]  = 'tiempo'\n",
    "nombres[1]  = 'To'\n",
    "nombres[2]  = 'Ti'"
   ]
  },
  {
   "cell_type": "code",
   "execution_count": 45,
   "id": "fcb07469",
   "metadata": {},
   "outputs": [
    {
     "data": {
      "text/html": [
       "<div>\n",
       "<style scoped>\n",
       "    .dataframe tbody tr th:only-of-type {\n",
       "        vertical-align: middle;\n",
       "    }\n",
       "\n",
       "    .dataframe tbody tr th {\n",
       "        vertical-align: top;\n",
       "    }\n",
       "\n",
       "    .dataframe thead th {\n",
       "        text-align: right;\n",
       "    }\n",
       "</style>\n",
       "<table border=\"1\" class=\"dataframe\">\n",
       "  <thead>\n",
       "    <tr style=\"text-align: right;\">\n",
       "      <th></th>\n",
       "      <th>To</th>\n",
       "      <th>Ti</th>\n",
       "      <th>dia</th>\n",
       "    </tr>\n",
       "    <tr>\n",
       "      <th>tiempo</th>\n",
       "      <th></th>\n",
       "      <th></th>\n",
       "      <th></th>\n",
       "    </tr>\n",
       "  </thead>\n",
       "  <tbody>\n",
       "    <tr>\n",
       "      <th>2019-05-03 00:00:00</th>\n",
       "      <td>23.0</td>\n",
       "      <td>25.539238</td>\n",
       "      <td>4</td>\n",
       "    </tr>\n",
       "    <tr>\n",
       "      <th>2019-05-03 00:10:00</th>\n",
       "      <td>23.0</td>\n",
       "      <td>25.391032</td>\n",
       "      <td>4</td>\n",
       "    </tr>\n",
       "    <tr>\n",
       "      <th>2019-05-03 00:20:00</th>\n",
       "      <td>23.0</td>\n",
       "      <td>25.301467</td>\n",
       "      <td>4</td>\n",
       "    </tr>\n",
       "    <tr>\n",
       "      <th>2019-05-03 00:30:00</th>\n",
       "      <td>22.8</td>\n",
       "      <td>25.245137</td>\n",
       "      <td>4</td>\n",
       "    </tr>\n",
       "    <tr>\n",
       "      <th>2019-05-03 00:40:00</th>\n",
       "      <td>22.7</td>\n",
       "      <td>25.194396</td>\n",
       "      <td>4</td>\n",
       "    </tr>\n",
       "    <tr>\n",
       "      <th>...</th>\n",
       "      <td>...</td>\n",
       "      <td>...</td>\n",
       "      <td>...</td>\n",
       "    </tr>\n",
       "    <tr>\n",
       "      <th>2019-05-03 23:10:00</th>\n",
       "      <td>25.4</td>\n",
       "      <td>25.859470</td>\n",
       "      <td>4</td>\n",
       "    </tr>\n",
       "    <tr>\n",
       "      <th>2019-05-03 23:20:00</th>\n",
       "      <td>25.4</td>\n",
       "      <td>25.816464</td>\n",
       "      <td>4</td>\n",
       "    </tr>\n",
       "    <tr>\n",
       "      <th>2019-05-03 23:30:00</th>\n",
       "      <td>25.5</td>\n",
       "      <td>25.773451</td>\n",
       "      <td>4</td>\n",
       "    </tr>\n",
       "    <tr>\n",
       "      <th>2019-05-03 23:40:00</th>\n",
       "      <td>25.5</td>\n",
       "      <td>25.736196</td>\n",
       "      <td>4</td>\n",
       "    </tr>\n",
       "    <tr>\n",
       "      <th>2019-05-03 23:49:59</th>\n",
       "      <td>25.6</td>\n",
       "      <td>25.703883</td>\n",
       "      <td>4</td>\n",
       "    </tr>\n",
       "  </tbody>\n",
       "</table>\n",
       "<p>144 rows × 3 columns</p>\n",
       "</div>"
      ],
      "text/plain": [
       "                       To         Ti  dia\n",
       "tiempo                                   \n",
       "2019-05-03 00:00:00  23.0  25.539238    4\n",
       "2019-05-03 00:10:00  23.0  25.391032    4\n",
       "2019-05-03 00:20:00  23.0  25.301467    4\n",
       "2019-05-03 00:30:00  22.8  25.245137    4\n",
       "2019-05-03 00:40:00  22.7  25.194396    4\n",
       "...                   ...        ...  ...\n",
       "2019-05-03 23:10:00  25.4  25.859470    4\n",
       "2019-05-03 23:20:00  25.4  25.816464    4\n",
       "2019-05-03 23:30:00  25.5  25.773451    4\n",
       "2019-05-03 23:40:00  25.5  25.736196    4\n",
       "2019-05-03 23:49:59  25.6  25.703883    4\n",
       "\n",
       "[144 rows x 3 columns]"
      ]
     },
     "execution_count": 45,
     "metadata": {},
     "output_type": "execute_result"
    }
   ],
   "source": [
    "# Llamada de datos de e+\n",
    "simulate = pd.read_csv('../idf/cubiculo_original/cubiculo.csv',names=nombres,skiprows=1)\n",
    "simulate.tiempo = simulate.tiempo.str.replace('24:00:00','23:59:59')\n",
    "simulate.tiempo = '2019-'+simulate.tiempo\n",
    "simulate.tiempo = pd.to_datetime(simulate.tiempo,format='%Y- %m/%d %H:%M:%S')\n",
    "simulate.tiempo = simulate.tiempo-pd.Timedelta('10minute')\n",
    "simulate.set_index('tiempo',inplace=True)\n",
    "# Hago columna de dias para hacer mascara\n",
    "simulate['dia'] = simulate.index.day_of_week\n",
    "# solo dines de semana de simulaciones\n",
    "weekend_simu = simulate[simulate.index.day_of_week>=5]\n",
    "weekend_simu"
   ]
  },
  {
   "cell_type": "code",
   "execution_count": null,
   "id": "f0b022a1",
   "metadata": {},
   "outputs": [],
   "source": []
  }
 ],
 "metadata": {
  "kernelspec": {
   "display_name": "Python 3",
   "language": "python",
   "name": "python3"
  },
  "language_info": {
   "codemirror_mode": {
    "name": "ipython",
    "version": 3
   },
   "file_extension": ".py",
   "mimetype": "text/x-python",
   "name": "python",
   "nbconvert_exporter": "python",
   "pygments_lexer": "ipython3",
   "version": "3.9.4"
  }
 },
 "nbformat": 4,
 "nbformat_minor": 5
}
