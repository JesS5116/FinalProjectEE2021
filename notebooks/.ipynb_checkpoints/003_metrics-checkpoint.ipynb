{
 "cells": [
  {
   "cell_type": "code",
   "execution_count": 1,
   "metadata": {},
   "outputs": [],
   "source": [
    "import numpy as np \n",
    "import pandas as pd\n",
    "import matplotlib.pyplot as plt\n",
    "from dateutil.parser import parse\n",
    "from scipy.stats import linregress"
   ]
  },
  {
   "cell_type": "code",
   "execution_count": 2,
   "metadata": {},
   "outputs": [
    {
     "data": {
      "text/html": [
       "<div>\n",
       "<style scoped>\n",
       "    .dataframe tbody tr th:only-of-type {\n",
       "        vertical-align: middle;\n",
       "    }\n",
       "\n",
       "    .dataframe tbody tr th {\n",
       "        vertical-align: top;\n",
       "    }\n",
       "\n",
       "    .dataframe thead th {\n",
       "        text-align: right;\n",
       "    }\n",
       "</style>\n",
       "<table border=\"1\" class=\"dataframe\">\n",
       "  <thead>\n",
       "    <tr style=\"text-align: right;\">\n",
       "      <th></th>\n",
       "      <th>Ti_ae</th>\n",
       "      <th>Ti_bm</th>\n",
       "      <th>Ti_ca</th>\n",
       "      <th>Ti_za</th>\n",
       "      <th>Ti</th>\n",
       "      <th>To_esolmet</th>\n",
       "    </tr>\n",
       "    <tr>\n",
       "      <th>tiempo</th>\n",
       "      <th></th>\n",
       "      <th></th>\n",
       "      <th></th>\n",
       "      <th></th>\n",
       "      <th></th>\n",
       "      <th></th>\n",
       "    </tr>\n",
       "  </thead>\n",
       "  <tbody>\n",
       "    <tr>\n",
       "      <th>2019-06-09 01:00:00</th>\n",
       "      <td>26.188194</td>\n",
       "      <td>26.628872</td>\n",
       "      <td>26.462325</td>\n",
       "      <td>26.472170</td>\n",
       "      <td>26.650584</td>\n",
       "      <td>24.13</td>\n",
       "    </tr>\n",
       "    <tr>\n",
       "      <th>2019-06-09 02:00:00</th>\n",
       "      <td>25.911450</td>\n",
       "      <td>26.383318</td>\n",
       "      <td>26.288043</td>\n",
       "      <td>26.197484</td>\n",
       "      <td>26.652891</td>\n",
       "      <td>23.63</td>\n",
       "    </tr>\n",
       "    <tr>\n",
       "      <th>2019-06-09 03:00:00</th>\n",
       "      <td>25.650832</td>\n",
       "      <td>26.114065</td>\n",
       "      <td>26.014926</td>\n",
       "      <td>25.931405</td>\n",
       "      <td>26.454455</td>\n",
       "      <td>23.41</td>\n",
       "    </tr>\n",
       "    <tr>\n",
       "      <th>2019-06-09 04:00:00</th>\n",
       "      <td>25.004127</td>\n",
       "      <td>25.728279</td>\n",
       "      <td>25.447787</td>\n",
       "      <td>25.503819</td>\n",
       "      <td>26.014895</td>\n",
       "      <td>22.24</td>\n",
       "    </tr>\n",
       "    <tr>\n",
       "      <th>2019-06-09 05:00:00</th>\n",
       "      <td>24.860334</td>\n",
       "      <td>25.492268</td>\n",
       "      <td>25.187682</td>\n",
       "      <td>25.270469</td>\n",
       "      <td>25.513036</td>\n",
       "      <td>22.29</td>\n",
       "    </tr>\n",
       "    <tr>\n",
       "      <th>...</th>\n",
       "      <td>...</td>\n",
       "      <td>...</td>\n",
       "      <td>...</td>\n",
       "      <td>...</td>\n",
       "      <td>...</td>\n",
       "      <td>...</td>\n",
       "    </tr>\n",
       "    <tr>\n",
       "      <th>2019-06-23 19:00:00</th>\n",
       "      <td>27.574269</td>\n",
       "      <td>27.685177</td>\n",
       "      <td>28.267537</td>\n",
       "      <td>27.852287</td>\n",
       "      <td>27.848124</td>\n",
       "      <td>26.95</td>\n",
       "    </tr>\n",
       "    <tr>\n",
       "      <th>2019-06-23 20:00:00</th>\n",
       "      <td>27.043309</td>\n",
       "      <td>27.248687</td>\n",
       "      <td>27.605776</td>\n",
       "      <td>27.376560</td>\n",
       "      <td>27.375107</td>\n",
       "      <td>25.26</td>\n",
       "    </tr>\n",
       "    <tr>\n",
       "      <th>2019-06-23 21:00:00</th>\n",
       "      <td>26.154304</td>\n",
       "      <td>26.798784</td>\n",
       "      <td>26.838753</td>\n",
       "      <td>26.782967</td>\n",
       "      <td>26.943624</td>\n",
       "      <td>23.62</td>\n",
       "    </tr>\n",
       "    <tr>\n",
       "      <th>2019-06-23 22:00:00</th>\n",
       "      <td>26.054644</td>\n",
       "      <td>26.556779</td>\n",
       "      <td>26.527556</td>\n",
       "      <td>26.522225</td>\n",
       "      <td>26.828253</td>\n",
       "      <td>23.77</td>\n",
       "    </tr>\n",
       "    <tr>\n",
       "      <th>2019-06-23 23:00:00</th>\n",
       "      <td>25.941900</td>\n",
       "      <td>26.341311</td>\n",
       "      <td>26.478287</td>\n",
       "      <td>26.304504</td>\n",
       "      <td>26.680580</td>\n",
       "      <td>23.97</td>\n",
       "    </tr>\n",
       "  </tbody>\n",
       "</table>\n",
       "<p>92 rows × 6 columns</p>\n",
       "</div>"
      ],
      "text/plain": [
       "                         Ti_ae      Ti_bm      Ti_ca      Ti_za         Ti  \\\n",
       "tiempo                                                                       \n",
       "2019-06-09 01:00:00  26.188194  26.628872  26.462325  26.472170  26.650584   \n",
       "2019-06-09 02:00:00  25.911450  26.383318  26.288043  26.197484  26.652891   \n",
       "2019-06-09 03:00:00  25.650832  26.114065  26.014926  25.931405  26.454455   \n",
       "2019-06-09 04:00:00  25.004127  25.728279  25.447787  25.503819  26.014895   \n",
       "2019-06-09 05:00:00  24.860334  25.492268  25.187682  25.270469  25.513036   \n",
       "...                        ...        ...        ...        ...        ...   \n",
       "2019-06-23 19:00:00  27.574269  27.685177  28.267537  27.852287  27.848124   \n",
       "2019-06-23 20:00:00  27.043309  27.248687  27.605776  27.376560  27.375107   \n",
       "2019-06-23 21:00:00  26.154304  26.798784  26.838753  26.782967  26.943624   \n",
       "2019-06-23 22:00:00  26.054644  26.556779  26.527556  26.522225  26.828253   \n",
       "2019-06-23 23:00:00  25.941900  26.341311  26.478287  26.304504  26.680580   \n",
       "\n",
       "                     To_esolmet  \n",
       "tiempo                           \n",
       "2019-06-09 01:00:00       24.13  \n",
       "2019-06-09 02:00:00       23.63  \n",
       "2019-06-09 03:00:00       23.41  \n",
       "2019-06-09 04:00:00       22.24  \n",
       "2019-06-09 05:00:00       22.29  \n",
       "...                         ...  \n",
       "2019-06-23 19:00:00       26.95  \n",
       "2019-06-23 20:00:00       25.26  \n",
       "2019-06-23 21:00:00       23.62  \n",
       "2019-06-23 22:00:00       23.77  \n",
       "2019-06-23 23:00:00       23.97  \n",
       "\n",
       "[92 rows x 6 columns]"
      ]
     },
     "execution_count": 2,
     "metadata": {},
     "output_type": "execute_result"
    }
   ],
   "source": [
    "data = pd.read_csv('../data/todos.csv',index_col=0,parse_dates=True)\n",
    "data"
   ]
  },
  {
   "cell_type": "code",
   "execution_count": 3,
   "metadata": {
    "scrolled": true
   },
   "outputs": [
    {
     "data": {
      "text/html": [
       "<div>\n",
       "<style scoped>\n",
       "    .dataframe tbody tr th:only-of-type {\n",
       "        vertical-align: middle;\n",
       "    }\n",
       "\n",
       "    .dataframe tbody tr th {\n",
       "        vertical-align: top;\n",
       "    }\n",
       "\n",
       "    .dataframe thead th {\n",
       "        text-align: right;\n",
       "    }\n",
       "</style>\n",
       "<table border=\"1\" class=\"dataframe\">\n",
       "  <thead>\n",
       "    <tr style=\"text-align: right;\">\n",
       "      <th></th>\n",
       "      <th>Ti_ae</th>\n",
       "      <th>Ti_bm</th>\n",
       "      <th>Ti_ca</th>\n",
       "      <th>Ti_za</th>\n",
       "      <th>Ti</th>\n",
       "      <th>To_esolmet</th>\n",
       "    </tr>\n",
       "    <tr>\n",
       "      <th>tiempo</th>\n",
       "      <th></th>\n",
       "      <th></th>\n",
       "      <th></th>\n",
       "      <th></th>\n",
       "      <th></th>\n",
       "      <th></th>\n",
       "    </tr>\n",
       "  </thead>\n",
       "  <tbody>\n",
       "    <tr>\n",
       "      <th>2019-06-09 01:00:00</th>\n",
       "      <td>26.188194</td>\n",
       "      <td>26.628872</td>\n",
       "      <td>26.462325</td>\n",
       "      <td>26.472170</td>\n",
       "      <td>26.650584</td>\n",
       "      <td>24.13</td>\n",
       "    </tr>\n",
       "    <tr>\n",
       "      <th>2019-06-09 02:00:00</th>\n",
       "      <td>25.911450</td>\n",
       "      <td>26.383318</td>\n",
       "      <td>26.288043</td>\n",
       "      <td>26.197484</td>\n",
       "      <td>26.652891</td>\n",
       "      <td>23.63</td>\n",
       "    </tr>\n",
       "    <tr>\n",
       "      <th>2019-06-09 03:00:00</th>\n",
       "      <td>25.650832</td>\n",
       "      <td>26.114065</td>\n",
       "      <td>26.014926</td>\n",
       "      <td>25.931405</td>\n",
       "      <td>26.454455</td>\n",
       "      <td>23.41</td>\n",
       "    </tr>\n",
       "    <tr>\n",
       "      <th>2019-06-09 04:00:00</th>\n",
       "      <td>25.004127</td>\n",
       "      <td>25.728279</td>\n",
       "      <td>25.447787</td>\n",
       "      <td>25.503819</td>\n",
       "      <td>26.014895</td>\n",
       "      <td>22.24</td>\n",
       "    </tr>\n",
       "    <tr>\n",
       "      <th>2019-06-09 05:00:00</th>\n",
       "      <td>24.860334</td>\n",
       "      <td>25.492268</td>\n",
       "      <td>25.187682</td>\n",
       "      <td>25.270469</td>\n",
       "      <td>25.513036</td>\n",
       "      <td>22.29</td>\n",
       "    </tr>\n",
       "    <tr>\n",
       "      <th>...</th>\n",
       "      <td>...</td>\n",
       "      <td>...</td>\n",
       "      <td>...</td>\n",
       "      <td>...</td>\n",
       "      <td>...</td>\n",
       "      <td>...</td>\n",
       "    </tr>\n",
       "    <tr>\n",
       "      <th>2019-06-23 19:00:00</th>\n",
       "      <td>27.574269</td>\n",
       "      <td>27.685177</td>\n",
       "      <td>28.267537</td>\n",
       "      <td>27.852287</td>\n",
       "      <td>27.848124</td>\n",
       "      <td>26.95</td>\n",
       "    </tr>\n",
       "    <tr>\n",
       "      <th>2019-06-23 20:00:00</th>\n",
       "      <td>27.043309</td>\n",
       "      <td>27.248687</td>\n",
       "      <td>27.605776</td>\n",
       "      <td>27.376560</td>\n",
       "      <td>27.375107</td>\n",
       "      <td>25.26</td>\n",
       "    </tr>\n",
       "    <tr>\n",
       "      <th>2019-06-23 21:00:00</th>\n",
       "      <td>26.154304</td>\n",
       "      <td>26.798784</td>\n",
       "      <td>26.838753</td>\n",
       "      <td>26.782967</td>\n",
       "      <td>26.943624</td>\n",
       "      <td>23.62</td>\n",
       "    </tr>\n",
       "    <tr>\n",
       "      <th>2019-06-23 22:00:00</th>\n",
       "      <td>26.054644</td>\n",
       "      <td>26.556779</td>\n",
       "      <td>26.527556</td>\n",
       "      <td>26.522225</td>\n",
       "      <td>26.828253</td>\n",
       "      <td>23.77</td>\n",
       "    </tr>\n",
       "    <tr>\n",
       "      <th>2019-06-23 23:00:00</th>\n",
       "      <td>25.941900</td>\n",
       "      <td>26.341311</td>\n",
       "      <td>26.478287</td>\n",
       "      <td>26.304504</td>\n",
       "      <td>26.680580</td>\n",
       "      <td>23.97</td>\n",
       "    </tr>\n",
       "  </tbody>\n",
       "</table>\n",
       "<p>92 rows × 6 columns</p>\n",
       "</div>"
      ],
      "text/plain": [
       "                         Ti_ae      Ti_bm      Ti_ca      Ti_za         Ti  \\\n",
       "tiempo                                                                       \n",
       "2019-06-09 01:00:00  26.188194  26.628872  26.462325  26.472170  26.650584   \n",
       "2019-06-09 02:00:00  25.911450  26.383318  26.288043  26.197484  26.652891   \n",
       "2019-06-09 03:00:00  25.650832  26.114065  26.014926  25.931405  26.454455   \n",
       "2019-06-09 04:00:00  25.004127  25.728279  25.447787  25.503819  26.014895   \n",
       "2019-06-09 05:00:00  24.860334  25.492268  25.187682  25.270469  25.513036   \n",
       "...                        ...        ...        ...        ...        ...   \n",
       "2019-06-23 19:00:00  27.574269  27.685177  28.267537  27.852287  27.848124   \n",
       "2019-06-23 20:00:00  27.043309  27.248687  27.605776  27.376560  27.375107   \n",
       "2019-06-23 21:00:00  26.154304  26.798784  26.838753  26.782967  26.943624   \n",
       "2019-06-23 22:00:00  26.054644  26.556779  26.527556  26.522225  26.828253   \n",
       "2019-06-23 23:00:00  25.941900  26.341311  26.478287  26.304504  26.680580   \n",
       "\n",
       "                     To_esolmet  \n",
       "tiempo                           \n",
       "2019-06-09 01:00:00       24.13  \n",
       "2019-06-09 02:00:00       23.63  \n",
       "2019-06-09 03:00:00       23.41  \n",
       "2019-06-09 04:00:00       22.24  \n",
       "2019-06-09 05:00:00       22.29  \n",
       "...                         ...  \n",
       "2019-06-23 19:00:00       26.95  \n",
       "2019-06-23 20:00:00       25.26  \n",
       "2019-06-23 21:00:00       23.62  \n",
       "2019-06-23 22:00:00       23.77  \n",
       "2019-06-23 23:00:00       23.97  \n",
       "\n",
       "[92 rows x 6 columns]"
      ]
     },
     "execution_count": 3,
     "metadata": {},
     "output_type": "execute_result"
    }
   ],
   "source": [
    "data.dropna(inplace=True) # cerciorate de no tener NaNs\n",
    "data"
   ]
  },
  {
   "cell_type": "code",
   "execution_count": 4,
   "metadata": {},
   "outputs": [
    {
     "data": {
      "text/plain": [
       "<matplotlib.legend.Legend at 0x22083d54310>"
      ]
     },
     "execution_count": 4,
     "metadata": {},
     "output_type": "execute_result"
    },
    {
     "data": {
      "image/png": "[encoded data removed]",
      "text/plain": [
       "<Figure size 1152x504 with 1 Axes>"
      ]
     },
     "metadata": {
      "needs_background": "light"
     },
     "output_type": "display_data"
    }
   ],
   "source": [
    "fig, ax = plt.subplots(figsize=(16,7))\n",
    "\n",
    "fecha1 = parse(\"2019-06-22\")\n",
    "fecha2 = fecha1 + pd.Timedelta(\"2D\")\n",
    "\n",
    "ax.set_xlim(fecha1,fecha2)\n",
    "\n",
    "\n",
    "ax.plot(data.Ti_ae,'r+',label='ae')\n",
    "ax.plot(data.Ti_bm,'g+',label='bm')\n",
    "ax.plot(data.Ti_ca,'b+',label='ca')\n",
    "ax.plot(data.Ti_za,'y+',label='za')\n",
    "ax.plot(data.Ti,'k-',linewidth=4,label='Ti')\n",
    "ax.plot(data.To_esolmet,'r-',linewidth=4)\n",
    "ax.legend()"
   ]
  },
  {
   "cell_type": "code",
   "execution_count": 5,
   "metadata": {
    "scrolled": false
   },
   "outputs": [
    {
     "name": "stdout",
     "output_type": "stream",
     "text": [
      "0.9867058021254594 -0.20025024087804108 0.9540011361111957\n"
     ]
    },
    {
     "data": {
      "image/png": "[encoded data removed]",
      "text/plain": [
       "<Figure size 432x432 with 1 Axes>"
      ]
     },
     "metadata": {
      "needs_background": "light"
     },
     "output_type": "display_data"
    }
   ],
   "source": [
    "# Para el caso Ti_ae\n",
    "Ti_s = data.Ti_ae\n",
    "\n",
    "fig, ax = plt.subplots(figsize=(6,6))\n",
    "\n",
    "\n",
    "x = np.linspace(-10,10,2)\n",
    "y = x \n",
    "\n",
    "X = np.array( data.Ti-data.Ti.mean()   )\n",
    "Y = np.array( Ti_s-data.Ti.mean() )\n",
    "m,b,r_value, p_value,std_err = linregress(X,Y)\n",
    "\n",
    "ax.scatter(X,Y)\n",
    "ax.plot(x,y,'k-') \n",
    "ax.plot(x,x*m+b,'r-') \n",
    "\n",
    "\n",
    "ax.set_xlim(-10,10)\n",
    "ax.set_ylim(-10,10)\n",
    "ax.set_box_aspect(1)\n",
    "ax.set_ylabel('Ti_s [oC]')\n",
    "ax.set_xlabel('Ti   [oC]')\n",
    "ax.grid()\n",
    "print(m,b,r_value)"
   ]
  },
  {
   "cell_type": "code",
   "execution_count": 6,
   "metadata": {},
   "outputs": [
    {
     "name": "stdout",
     "output_type": "stream",
     "text": [
      "0.7966382598095049 0.4152522581377032 0.9602713574571728\n"
     ]
    },
    {
     "data": {
      "image/png": "[encoded data removed]",
      "text/plain": [
       "<Figure size 432x432 with 1 Axes>"
      ]
     },
     "metadata": {
      "needs_background": "light"
     },
     "output_type": "display_data"
    }
   ],
   "source": [
    "# Para el caso Ti_ae\n",
    "Ti_s = data.Ti_bm\n",
    "\n",
    "fig, ax = plt.subplots(figsize=(6,6))\n",
    "\n",
    "\n",
    "x = np.linspace(-10,10,2)\n",
    "y = x \n",
    "\n",
    "X = np.array( data.Ti-data.Ti.mean()   )\n",
    "Y = np.array( Ti_s-data.Ti.mean() )\n",
    "m,b,r_value, p_value,std_err = linregress(X,Y)\n",
    "\n",
    "ax.scatter(X,Y)\n",
    "ax.plot(x,y,'k-') \n",
    "ax.plot(x,x*m+b,'r-') \n",
    "\n",
    "\n",
    "ax.set_xlim(-10,10)\n",
    "ax.set_ylim(-10,10)\n",
    "ax.set_box_aspect(1)\n",
    "ax.set_ylabel('Ti_s [oC]')\n",
    "ax.set_xlabel('Ti   [oC]')\n",
    "ax.grid()\n",
    "print(m,b,r_value)"
   ]
  },
  {
   "cell_type": "markdown",
   "metadata": {},
   "source": [
    "## Correlaci'on de Pearson"
   ]
  },
  {
   "cell_type": "code",
   "execution_count": 7,
   "metadata": {},
   "outputs": [
    {
     "data": {
      "text/html": [
       "<div>\n",
       "<style scoped>\n",
       "    .dataframe tbody tr th:only-of-type {\n",
       "        vertical-align: middle;\n",
       "    }\n",
       "\n",
       "    .dataframe tbody tr th {\n",
       "        vertical-align: top;\n",
       "    }\n",
       "\n",
       "    .dataframe thead th {\n",
       "        text-align: right;\n",
       "    }\n",
       "</style>\n",
       "<table border=\"1\" class=\"dataframe\">\n",
       "  <thead>\n",
       "    <tr style=\"text-align: right;\">\n",
       "      <th></th>\n",
       "      <th>Ti_ae</th>\n",
       "      <th>Ti_bm</th>\n",
       "      <th>Ti_ca</th>\n",
       "      <th>Ti_za</th>\n",
       "      <th>Ti</th>\n",
       "    </tr>\n",
       "  </thead>\n",
       "  <tbody>\n",
       "    <tr>\n",
       "      <th>Ti_ae</th>\n",
       "      <td>1.000000</td>\n",
       "      <td>0.996277</td>\n",
       "      <td>0.995835</td>\n",
       "      <td>0.997703</td>\n",
       "      <td>0.954001</td>\n",
       "    </tr>\n",
       "    <tr>\n",
       "      <th>Ti_bm</th>\n",
       "      <td>0.996277</td>\n",
       "      <td>1.000000</td>\n",
       "      <td>0.993435</td>\n",
       "      <td>0.998669</td>\n",
       "      <td>0.960271</td>\n",
       "    </tr>\n",
       "    <tr>\n",
       "      <th>Ti_ca</th>\n",
       "      <td>0.995835</td>\n",
       "      <td>0.993435</td>\n",
       "      <td>1.000000</td>\n",
       "      <td>0.996510</td>\n",
       "      <td>0.957310</td>\n",
       "    </tr>\n",
       "    <tr>\n",
       "      <th>Ti_za</th>\n",
       "      <td>0.997703</td>\n",
       "      <td>0.998669</td>\n",
       "      <td>0.996510</td>\n",
       "      <td>1.000000</td>\n",
       "      <td>0.958498</td>\n",
       "    </tr>\n",
       "    <tr>\n",
       "      <th>Ti</th>\n",
       "      <td>0.954001</td>\n",
       "      <td>0.960271</td>\n",
       "      <td>0.957310</td>\n",
       "      <td>0.958498</td>\n",
       "      <td>1.000000</td>\n",
       "    </tr>\n",
       "  </tbody>\n",
       "</table>\n",
       "</div>"
      ],
      "text/plain": [
       "          Ti_ae     Ti_bm     Ti_ca     Ti_za        Ti\n",
       "Ti_ae  1.000000  0.996277  0.995835  0.997703  0.954001\n",
       "Ti_bm  0.996277  1.000000  0.993435  0.998669  0.960271\n",
       "Ti_ca  0.995835  0.993435  1.000000  0.996510  0.957310\n",
       "Ti_za  0.997703  0.998669  0.996510  1.000000  0.958498\n",
       "Ti     0.954001  0.960271  0.957310  0.958498  1.000000"
      ]
     },
     "execution_count": 7,
     "metadata": {},
     "output_type": "execute_result"
    }
   ],
   "source": [
    "data[['Ti_ae', 'Ti_bm', 'Ti_ca', 'Ti_za','Ti']].corr()"
   ]
  },
  {
   "cell_type": "code",
   "execution_count": 8,
   "metadata": {},
   "outputs": [
    {
     "name": "stdout",
     "output_type": "stream",
     "text": [
      "Ti_ae 0.9540011361111962\n",
      "Ti_bm 0.9602713574571725\n",
      "Ti_ca 0.9573103490796757\n",
      "Ti_za 0.9584980096244052\n"
     ]
    }
   ],
   "source": [
    "nombres = ['Ti_ae', 'Ti_bm', 'Ti_ca', 'Ti_za']\n",
    "for i in nombres:\n",
    "    print(i,data.Ti.corr(data[i]))\n"
   ]
  },
  {
   "cell_type": "markdown",
   "metadata": {},
   "source": [
    "# dRMSE"
   ]
  },
  {
   "cell_type": "code",
   "execution_count": 9,
   "metadata": {},
   "outputs": [
    {
     "data": {
      "text/plain": [
       "0.7016870535423133"
      ]
     },
     "execution_count": 9,
     "metadata": {},
     "output_type": "execute_result"
    }
   ],
   "source": [
    "(((data.Ti_ae - data.Ti))**2).mean()**.5\n"
   ]
  },
  {
   "cell_type": "code",
   "execution_count": 10,
   "metadata": {},
   "outputs": [
    {
     "name": "stdout",
     "output_type": "stream",
     "text": [
      "Ti_ae 0.7016870535423133\n",
      "Ti_bm 0.7862931616162209\n",
      "Ti_ca 0.6725802331188332\n",
      "Ti_za 0.7026474945587221\n"
     ]
    }
   ],
   "source": [
    "for i in nombres:\n",
    "    print(i,((data[i] - data.Ti)**2).mean()**.5)\n"
   ]
  },
  {
   "cell_type": "markdown",
   "metadata": {},
   "source": [
    "# Diferencia promedio de Ti"
   ]
  },
  {
   "cell_type": "code",
   "execution_count": 11,
   "metadata": {},
   "outputs": [
    {
     "data": {
      "text/plain": [
       "-0.20025024087804105"
      ]
     },
     "execution_count": 11,
     "metadata": {},
     "output_type": "execute_result"
    }
   ],
   "source": [
    "(data.Ti_ae - data.Ti).mean()\n"
   ]
  },
  {
   "cell_type": "code",
   "execution_count": 12,
   "metadata": {},
   "outputs": [
    {
     "name": "stdout",
     "output_type": "stream",
     "text": [
      "Ti_ae -0.20025024087804105\n",
      "Ti_bm 0.41525225813770344\n",
      "Ti_ca 0.24457550359105173\n",
      "Ti_za 0.31171415605703345\n"
     ]
    }
   ],
   "source": [
    "for i in nombres:\n",
    "    print(i,(data[i]-data.Ti).mean())\n"
   ]
  },
  {
   "cell_type": "markdown",
   "metadata": {},
   "source": [
    "# Diferencia promedio de las temperaturas m'aximas diarias\n"
   ]
  },
  {
   "cell_type": "code",
   "execution_count": 13,
   "metadata": {},
   "outputs": [
    {
     "data": {
      "text/plain": [
       "0.05655108731345582"
      ]
     },
     "execution_count": 13,
     "metadata": {},
     "output_type": "execute_result"
    }
   ],
   "source": [
    "(data.Ti_ae.resample(\"1D\").max() - data.Ti.resample(\"1D\").max()).mean()\n"
   ]
  },
  {
   "cell_type": "code",
   "execution_count": 14,
   "metadata": {},
   "outputs": [
    {
     "name": "stdout",
     "output_type": "stream",
     "text": [
      "Ti_ae 0.05655108731345582\n",
      "Ti_bm 0.17134994230347012\n",
      "Ti_ca 0.449624437523954\n",
      "Ti_za 0.2702844070365229\n"
     ]
    }
   ],
   "source": [
    "for i in nombres:\n",
    "    print(i,(data[i].resample(\"1D\").max() - data.Ti.resample(\"1D\").max()).mean())\n"
   ]
  },
  {
   "cell_type": "markdown",
   "metadata": {},
   "source": [
    "# Diferencia promedio en el FD"
   ]
  },
  {
   "cell_type": "code",
   "execution_count": 15,
   "metadata": {},
   "outputs": [
    {
     "data": {
      "text/plain": [
       "0.04713364283415139"
      ]
     },
     "execution_count": 15,
     "metadata": {},
     "output_type": "execute_result"
    }
   ],
   "source": [
    "df_s = (data.Ti_ae.resample(\"1D\").max() - data.Ti_ae.resample(\"1D\").min()) / (data.To_esolmet.resample(\"1D\").max() - data.To_esolmet.resample(\"1D\").min())\n",
    "df_e = (data.Ti.resample(\"1D\").max() - data.Ti.resample(\"1D\").min()) / (data.To_esolmet.resample(\"1D\").max() - data.To_esolmet.resample(\"1D\").min())\n",
    "\n",
    "(df_s - df_e).mean()\n"
   ]
  },
  {
   "cell_type": "code",
   "execution_count": 16,
   "metadata": {},
   "outputs": [
    {
     "name": "stdout",
     "output_type": "stream",
     "text": [
      "Ti_ae 0.04713364283415139\n",
      "Ti_bm -0.0439130946704355\n",
      "Ti_ca 0.04192183829098084\n",
      "Ti_za -0.007059819765443592\n"
     ]
    }
   ],
   "source": [
    "for i in nombres:\n",
    "    df_s = (data[i].resample(\"1D\").max() - data[i].resample(\"1D\").min()) / (data.To_esolmet.resample(\"1D\").max() - data.To_esolmet.resample(\"1D\").min())\n",
    "    df_e = (data.Ti.resample(\"1D\").max() - data.Ti.resample(\"1D\").min()) / (data.To_esolmet.resample(\"1D\").max() - data.To_esolmet.resample(\"1D\").min())\n",
    "\n",
    "    print(i,(df_s - df_e).mean())\n"
   ]
  },
  {
   "cell_type": "code",
   "execution_count": null,
   "metadata": {},
   "outputs": [],
   "source": []
  }
 ],
 "metadata": {
  "kernelspec": {
   "display_name": "Python 3",
   "language": "python",
   "name": "python3"
  },
  "language_info": {
   "codemirror_mode": {
    "name": "ipython",
    "version": 3
   },
   "file_extension": ".py",
   "mimetype": "text/x-python",
   "name": "python",
   "nbconvert_exporter": "python",
   "pygments_lexer": "ipython3",
   "version": "3.8.7"
  }
 },
 "nbformat": 4,
 "nbformat_minor": 4
}
