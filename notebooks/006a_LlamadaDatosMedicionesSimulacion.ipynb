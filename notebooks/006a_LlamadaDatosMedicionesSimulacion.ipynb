{
 "cells": [
  {
   "cell_type": "code",
   "execution_count": 29,
   "id": "f316c4f4",
   "metadata": {},
   "outputs": [],
   "source": [
    "import numpy as np \n",
    "import pandas as pd\n",
    "import matplotlib.pyplot as plt\n",
    "from dateutil.parser import parse\n",
    "import missingno as msno"
   ]
  },
  {
   "cell_type": "code",
   "execution_count": 2,
   "id": "381f0875",
   "metadata": {},
   "outputs": [],
   "source": [
    "def plot_weekend(data,fecha1):\n",
    "    fig, ax = plt.subplots(figsize=(12,4))\n",
    "\n",
    "    fecha1 = parse(fecha1) - pd.Timedelta('1D')\n",
    "    fecha2 = fecha1 + pd.Timedelta('4D')\n",
    "    ax.set_xlim(fecha1,fecha2)\n",
    "\n",
    "    ax.scatter(data.index,data.TCAire)"
   ]
  },
  {
   "cell_type": "code",
   "execution_count": 33,
   "id": "9e2c83c1",
   "metadata": {},
   "outputs": [],
   "source": [
    "# Datos de mediciones de fin de semana\n",
    "weekend_data = pd.read_csv('../data/weekends.csv',index_col=0,parse_dates=True)\n",
    "weekend_data = weekend_data.resample(\"600S\").interpolate(method='time')\n",
    "#weekend_data"
   ]
  },
  {
   "cell_type": "code",
   "execution_count": 4,
   "id": "eaa04862",
   "metadata": {},
   "outputs": [
    {
     "name": "stdout",
     "output_type": "stream",
     "text": [
      "0 Date/Time\n",
      "1 Environment:Site Outdoor Air Drybulb Temperature [C](TimeStep)\n",
      "2 THERMAL ZONE: JORGE:Zone Mean Air Temperature [C](TimeStep)\n"
     ]
    }
   ],
   "source": [
    "nombres = np.genfromtxt('../idf/cubiculo_original/cubiculo.csv',dtype='U',delimiter=',',max_rows=1,)\n",
    "nombres\n",
    "\n",
    "for i,nombre in enumerate(nombres):\n",
    "    print(i,nombre)\n",
    "    \n",
    "nombres[0]  = 'tiempo'\n",
    "nombres[1]  = 'To'\n",
    "nombres[2]  = 'Ti'"
   ]
  },
  {
   "cell_type": "code",
   "execution_count": 22,
   "id": "fcb07469",
   "metadata": {
    "scrolled": true
   },
   "outputs": [],
   "source": [
    "# Llamada de datos de e+\n",
    "simulate = pd.read_csv('../idf/cubiculo_original/cubiculo.csv',names=nombres,skiprows=1)\n",
    "simulate.tiempo = simulate.tiempo.str.replace('24:00:00','23:59:59')\n",
    "simulate.tiempo = '2019-'+simulate.tiempo\n",
    "simulate.tiempo = pd.to_datetime(simulate.tiempo,format='%Y- %m/%d %H:%M:%S')\n",
    "simulate.tiempo = simulate.tiempo-pd.Timedelta('10minute')\n",
    "simulate.set_index('tiempo',inplace=True)\n",
    "# Hago columna de dias para hacer mascara (opcional)\n",
    "#simulate['dia'] = simulate.index.day_of_week\n",
    "# solo dines de semana de simulaciones\n",
    "weekend_simu = simulate[simulate.index.day_of_week>=5]\n",
    "#weekend_simu"
   ]
  },
  {
   "cell_type": "code",
   "execution_count": 23,
   "id": "52b14c8a",
   "metadata": {},
   "outputs": [
    {
     "data": {
      "text/html": [
       "<div>\n",
       "<style scoped>\n",
       "    .dataframe tbody tr th:only-of-type {\n",
       "        vertical-align: middle;\n",
       "    }\n",
       "\n",
       "    .dataframe tbody tr th {\n",
       "        vertical-align: top;\n",
       "    }\n",
       "\n",
       "    .dataframe thead th {\n",
       "        text-align: right;\n",
       "    }\n",
       "</style>\n",
       "<table border=\"1\" class=\"dataframe\">\n",
       "  <thead>\n",
       "    <tr style=\"text-align: right;\">\n",
       "      <th></th>\n",
       "      <th>TCAire</th>\n",
       "      <th>To</th>\n",
       "      <th>Ti</th>\n",
       "    </tr>\n",
       "    <tr>\n",
       "      <th>tiempo</th>\n",
       "      <th></th>\n",
       "      <th></th>\n",
       "      <th></th>\n",
       "    </tr>\n",
       "  </thead>\n",
       "  <tbody>\n",
       "    <tr>\n",
       "      <th>2019-05-04 00:00:00</th>\n",
       "      <td>NaN</td>\n",
       "      <td>25.4</td>\n",
       "      <td>26.720595</td>\n",
       "    </tr>\n",
       "    <tr>\n",
       "      <th>2019-05-04 00:10:00</th>\n",
       "      <td>NaN</td>\n",
       "      <td>25.0</td>\n",
       "      <td>26.803164</td>\n",
       "    </tr>\n",
       "    <tr>\n",
       "      <th>2019-05-04 00:20:00</th>\n",
       "      <td>NaN</td>\n",
       "      <td>24.9</td>\n",
       "      <td>26.684742</td>\n",
       "    </tr>\n",
       "    <tr>\n",
       "      <th>2019-05-04 00:30:00</th>\n",
       "      <td>NaN</td>\n",
       "      <td>24.6</td>\n",
       "      <td>26.455442</td>\n",
       "    </tr>\n",
       "    <tr>\n",
       "      <th>2019-05-04 00:40:00</th>\n",
       "      <td>NaN</td>\n",
       "      <td>24.7</td>\n",
       "      <td>26.396843</td>\n",
       "    </tr>\n",
       "    <tr>\n",
       "      <th>...</th>\n",
       "      <td>...</td>\n",
       "      <td>...</td>\n",
       "      <td>...</td>\n",
       "    </tr>\n",
       "    <tr>\n",
       "      <th>2019-07-28 23:10:00</th>\n",
       "      <td>25.432277</td>\n",
       "      <td>NaN</td>\n",
       "      <td>NaN</td>\n",
       "    </tr>\n",
       "    <tr>\n",
       "      <th>2019-07-28 23:20:00</th>\n",
       "      <td>24.818508</td>\n",
       "      <td>NaN</td>\n",
       "      <td>NaN</td>\n",
       "    </tr>\n",
       "    <tr>\n",
       "      <th>2019-07-28 23:30:00</th>\n",
       "      <td>24.905036</td>\n",
       "      <td>NaN</td>\n",
       "      <td>NaN</td>\n",
       "    </tr>\n",
       "    <tr>\n",
       "      <th>2019-07-28 23:40:00</th>\n",
       "      <td>25.021559</td>\n",
       "      <td>NaN</td>\n",
       "      <td>NaN</td>\n",
       "    </tr>\n",
       "    <tr>\n",
       "      <th>2019-07-28 23:50:00</th>\n",
       "      <td>24.572770</td>\n",
       "      <td>NaN</td>\n",
       "      <td>NaN</td>\n",
       "    </tr>\n",
       "  </tbody>\n",
       "</table>\n",
       "<p>8790 rows × 3 columns</p>\n",
       "</div>"
      ],
      "text/plain": [
       "                        TCAire    To         Ti\n",
       "tiempo                                         \n",
       "2019-05-04 00:00:00        NaN  25.4  26.720595\n",
       "2019-05-04 00:10:00        NaN  25.0  26.803164\n",
       "2019-05-04 00:20:00        NaN  24.9  26.684742\n",
       "2019-05-04 00:30:00        NaN  24.6  26.455442\n",
       "2019-05-04 00:40:00        NaN  24.7  26.396843\n",
       "...                        ...   ...        ...\n",
       "2019-07-28 23:10:00  25.432277   NaN        NaN\n",
       "2019-07-28 23:20:00  24.818508   NaN        NaN\n",
       "2019-07-28 23:30:00  24.905036   NaN        NaN\n",
       "2019-07-28 23:40:00  25.021559   NaN        NaN\n",
       "2019-07-28 23:50:00  24.572770   NaN        NaN\n",
       "\n",
       "[8790 rows x 3 columns]"
      ]
     },
     "execution_count": 23,
     "metadata": {},
     "output_type": "execute_result"
    }
   ],
   "source": [
    "data = pd.concat([weekend_data,weekend_simu],axis=1)\n",
    "data"
   ]
  },
  {
   "cell_type": "code",
   "execution_count": 31,
   "id": "4a7b795f",
   "metadata": {},
   "outputs": [
    {
     "ename": "ValueError",
     "evalue": "x and y must be the same size",
     "output_type": "error",
     "traceback": [
      "\u001b[1;31m---------------------------------------------------------------------------\u001b[0m",
      "\u001b[1;31mValueError\u001b[0m                                Traceback (most recent call last)",
      "\u001b[1;32m<ipython-input-31-fb8074f0fe36>\u001b[0m in \u001b[0;36m<module>\u001b[1;34m\u001b[0m\n\u001b[0;32m      5\u001b[0m \u001b[1;33m\u001b[0m\u001b[0m\n\u001b[0;32m      6\u001b[0m \u001b[0max\u001b[0m\u001b[1;33m.\u001b[0m\u001b[0mset_xlim\u001b[0m\u001b[1;33m(\u001b[0m\u001b[0mfecha1\u001b[0m\u001b[1;33m,\u001b[0m\u001b[0mfecha2\u001b[0m\u001b[1;33m)\u001b[0m\u001b[1;33m\u001b[0m\u001b[1;33m\u001b[0m\u001b[0m\n\u001b[1;32m----> 7\u001b[1;33m \u001b[0max\u001b[0m\u001b[1;33m.\u001b[0m\u001b[0mscatter\u001b[0m\u001b[1;33m(\u001b[0m\u001b[0mdata\u001b[0m\u001b[1;33m.\u001b[0m\u001b[0mTCAire\u001b[0m\u001b[1;33m,\u001b[0m\u001b[1;34m'.'\u001b[0m\u001b[1;33m,\u001b[0m\u001b[0mcolor\u001b[0m\u001b[1;33m=\u001b[0m\u001b[1;34m'blue'\u001b[0m\u001b[1;33m,\u001b[0m\u001b[0mlabel\u001b[0m\u001b[1;33m=\u001b[0m\u001b[1;34m'Medición'\u001b[0m\u001b[1;33m)\u001b[0m\u001b[1;33m\u001b[0m\u001b[1;33m\u001b[0m\u001b[0m\n\u001b[0m\u001b[0;32m      8\u001b[0m \u001b[0max\u001b[0m\u001b[1;33m.\u001b[0m\u001b[0mscatter\u001b[0m\u001b[1;33m(\u001b[0m\u001b[0mdata\u001b[0m\u001b[1;33m.\u001b[0m\u001b[0mTi\u001b[0m\u001b[1;33m,\u001b[0m\u001b[1;34m'.'\u001b[0m\u001b[1;33m,\u001b[0m\u001b[0mcolor\u001b[0m\u001b[1;33m=\u001b[0m\u001b[1;34m'red'\u001b[0m\u001b[1;33m,\u001b[0m\u001b[0mlabel\u001b[0m\u001b[1;33m=\u001b[0m\u001b[1;34m'Simulación'\u001b[0m\u001b[1;33m)\u001b[0m\u001b[1;33m\u001b[0m\u001b[1;33m\u001b[0m\u001b[0m\n\u001b[0;32m      9\u001b[0m \u001b[0max\u001b[0m\u001b[1;33m.\u001b[0m\u001b[0mset_title\u001b[0m\u001b[1;33m(\u001b[0m\u001b[1;34m'Fin de semana 2019-06-08 para validación'\u001b[0m\u001b[1;33m)\u001b[0m\u001b[1;33m\u001b[0m\u001b[1;33m\u001b[0m\u001b[0m\n",
      "\u001b[1;32m~\\AppData\\Roaming\\Python\\Python39\\site-packages\\matplotlib\\__init__.py\u001b[0m in \u001b[0;36minner\u001b[1;34m(ax, data, *args, **kwargs)\u001b[0m\n\u001b[0;32m   1359\u001b[0m     \u001b[1;32mdef\u001b[0m \u001b[0minner\u001b[0m\u001b[1;33m(\u001b[0m\u001b[0max\u001b[0m\u001b[1;33m,\u001b[0m \u001b[1;33m*\u001b[0m\u001b[0margs\u001b[0m\u001b[1;33m,\u001b[0m \u001b[0mdata\u001b[0m\u001b[1;33m=\u001b[0m\u001b[1;32mNone\u001b[0m\u001b[1;33m,\u001b[0m \u001b[1;33m**\u001b[0m\u001b[0mkwargs\u001b[0m\u001b[1;33m)\u001b[0m\u001b[1;33m:\u001b[0m\u001b[1;33m\u001b[0m\u001b[1;33m\u001b[0m\u001b[0m\n\u001b[0;32m   1360\u001b[0m         \u001b[1;32mif\u001b[0m \u001b[0mdata\u001b[0m \u001b[1;32mis\u001b[0m \u001b[1;32mNone\u001b[0m\u001b[1;33m:\u001b[0m\u001b[1;33m\u001b[0m\u001b[1;33m\u001b[0m\u001b[0m\n\u001b[1;32m-> 1361\u001b[1;33m             \u001b[1;32mreturn\u001b[0m \u001b[0mfunc\u001b[0m\u001b[1;33m(\u001b[0m\u001b[0max\u001b[0m\u001b[1;33m,\u001b[0m \u001b[1;33m*\u001b[0m\u001b[0mmap\u001b[0m\u001b[1;33m(\u001b[0m\u001b[0msanitize_sequence\u001b[0m\u001b[1;33m,\u001b[0m \u001b[0margs\u001b[0m\u001b[1;33m)\u001b[0m\u001b[1;33m,\u001b[0m \u001b[1;33m**\u001b[0m\u001b[0mkwargs\u001b[0m\u001b[1;33m)\u001b[0m\u001b[1;33m\u001b[0m\u001b[1;33m\u001b[0m\u001b[0m\n\u001b[0m\u001b[0;32m   1362\u001b[0m \u001b[1;33m\u001b[0m\u001b[0m\n\u001b[0;32m   1363\u001b[0m         \u001b[0mbound\u001b[0m \u001b[1;33m=\u001b[0m \u001b[0mnew_sig\u001b[0m\u001b[1;33m.\u001b[0m\u001b[0mbind\u001b[0m\u001b[1;33m(\u001b[0m\u001b[0max\u001b[0m\u001b[1;33m,\u001b[0m \u001b[1;33m*\u001b[0m\u001b[0margs\u001b[0m\u001b[1;33m,\u001b[0m \u001b[1;33m**\u001b[0m\u001b[0mkwargs\u001b[0m\u001b[1;33m)\u001b[0m\u001b[1;33m\u001b[0m\u001b[1;33m\u001b[0m\u001b[0m\n",
      "\u001b[1;32m~\\AppData\\Roaming\\Python\\Python39\\site-packages\\matplotlib\\axes\\_axes.py\u001b[0m in \u001b[0;36mscatter\u001b[1;34m(self, x, y, s, c, marker, cmap, norm, vmin, vmax, alpha, linewidths, edgecolors, plotnonfinite, **kwargs)\u001b[0m\n\u001b[0;32m   4496\u001b[0m         \u001b[0my\u001b[0m \u001b[1;33m=\u001b[0m \u001b[0mnp\u001b[0m\u001b[1;33m.\u001b[0m\u001b[0mma\u001b[0m\u001b[1;33m.\u001b[0m\u001b[0mravel\u001b[0m\u001b[1;33m(\u001b[0m\u001b[0my\u001b[0m\u001b[1;33m)\u001b[0m\u001b[1;33m\u001b[0m\u001b[1;33m\u001b[0m\u001b[0m\n\u001b[0;32m   4497\u001b[0m         \u001b[1;32mif\u001b[0m \u001b[0mx\u001b[0m\u001b[1;33m.\u001b[0m\u001b[0msize\u001b[0m \u001b[1;33m!=\u001b[0m \u001b[0my\u001b[0m\u001b[1;33m.\u001b[0m\u001b[0msize\u001b[0m\u001b[1;33m:\u001b[0m\u001b[1;33m\u001b[0m\u001b[1;33m\u001b[0m\u001b[0m\n\u001b[1;32m-> 4498\u001b[1;33m             \u001b[1;32mraise\u001b[0m \u001b[0mValueError\u001b[0m\u001b[1;33m(\u001b[0m\u001b[1;34m\"x and y must be the same size\"\u001b[0m\u001b[1;33m)\u001b[0m\u001b[1;33m\u001b[0m\u001b[1;33m\u001b[0m\u001b[0m\n\u001b[0m\u001b[0;32m   4499\u001b[0m \u001b[1;33m\u001b[0m\u001b[0m\n\u001b[0;32m   4500\u001b[0m         \u001b[1;32mif\u001b[0m \u001b[0ms\u001b[0m \u001b[1;32mis\u001b[0m \u001b[1;32mNone\u001b[0m\u001b[1;33m:\u001b[0m\u001b[1;33m\u001b[0m\u001b[1;33m\u001b[0m\u001b[0m\n",
      "\u001b[1;31mValueError\u001b[0m: x and y must be the same size"
     ]
    },
    {
     "data": {
      "image/png": "[encoded data removed]",
      "text/plain": [
       "<Figure size 864x288 with 1 Axes>"
      ]
     },
     "metadata": {
      "needs_background": "light"
     },
     "output_type": "display_data"
    }
   ],
   "source": [
    "fig, ax = plt.subplots(figsize=(12,4))\n",
    "\n",
    "fecha1 = parse('2019-06-08') - pd.Timedelta('1D')\n",
    "fecha2 = fecha1 + pd.Timedelta('2D')\n",
    "\n",
    "ax.set_xlim(fecha1,fecha2)\n",
    "ax.scatter(data.TCAire,'.',color='blue',label='Medición')\n",
    "ax.scatter(data.Ti,'.',color='red',label='Simulación')\n",
    "ax.set_title('Fin de semana 2019-06-08 para validación')\n",
    "ax.legend()\n",
    "ax.grid()"
   ]
  },
  {
   "cell_type": "code",
   "execution_count": 26,
   "id": "8938cdf0",
   "metadata": {},
   "outputs": [
    {
     "data": {
      "text/plain": [
       "DatetimeIndex(['2019-05-04 00:00:00', '2019-05-04 00:10:00',\n",
       "               '2019-05-04 00:20:00', '2019-05-04 00:30:00',\n",
       "               '2019-05-04 00:40:00', '2019-05-04 00:50:00',\n",
       "               '2019-05-04 01:00:00', '2019-05-04 01:10:00',\n",
       "               '2019-05-04 01:20:00', '2019-05-04 01:30:00',\n",
       "               ...\n",
       "               '2019-07-28 22:20:00', '2019-07-28 22:30:00',\n",
       "               '2019-07-28 22:40:00', '2019-07-28 22:50:00',\n",
       "               '2019-07-28 23:00:00', '2019-07-28 23:10:00',\n",
       "               '2019-07-28 23:20:00', '2019-07-28 23:30:00',\n",
       "               '2019-07-28 23:40:00', '2019-07-28 23:50:00'],\n",
       "              dtype='datetime64[ns]', name='tiempo', length=8790, freq=None)"
      ]
     },
     "execution_count": 26,
     "metadata": {},
     "output_type": "execute_result"
    }
   ],
   "source": [
    "data.index"
   ]
  },
  {
   "cell_type": "code",
   "execution_count": null,
   "id": "5f7f86de",
   "metadata": {},
   "outputs": [],
   "source": []
  }
 ],
 "metadata": {
  "kernelspec": {
   "display_name": "Python 3",
   "language": "python",
   "name": "python3"
  },
  "language_info": {
   "codemirror_mode": {
    "name": "ipython",
    "version": 3
   },
   "file_extension": ".py",
   "mimetype": "text/x-python",
   "name": "python",
   "nbconvert_exporter": "python",
   "pygments_lexer": "ipython3",
   "version": "3.9.4"
  }
 },
 "nbformat": 4,
 "nbformat_minor": 5
}
