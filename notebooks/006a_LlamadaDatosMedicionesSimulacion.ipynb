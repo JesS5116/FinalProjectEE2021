{
 "cells": [
  {
   "cell_type": "code",
   "execution_count": 1,
   "id": "f316c4f4",
   "metadata": {},
   "outputs": [],
   "source": [
    "import numpy as np \n",
    "import pandas as pd\n",
    "import matplotlib.pyplot as plt\n",
    "from dateutil.parser import parse"
   ]
  },
  {
   "cell_type": "code",
   "execution_count": 2,
   "id": "381f0875",
   "metadata": {},
   "outputs": [],
   "source": [
    "def plot_weekend(data,fecha1):\n",
    "    fig, ax = plt.subplots(figsize=(12,4))\n",
    "\n",
    "    fecha1 = parse(fecha1) - pd.Timedelta('1D')\n",
    "    fecha2 = fecha1 + pd.Timedelta('4D')\n",
    "    ax.set_xlim(fecha1,fecha2)\n",
    "\n",
    "    ax.scatter(data.index,data.TCAire)"
   ]
  },
  {
   "cell_type": "code",
   "execution_count": 3,
   "id": "9e2c83c1",
   "metadata": {},
   "outputs": [],
   "source": [
    "# Datos de mediciones de fin de semana\n",
    "weekend_data = pd.read_csv('../data/weekends.csv',index_col=0,parse_dates=True)"
   ]
  },
  {
   "cell_type": "code",
   "execution_count": 4,
   "id": "eaa04862",
   "metadata": {},
   "outputs": [
    {
     "name": "stdout",
     "output_type": "stream",
     "text": [
      "0 Date/Time\n",
      "1 Environment:Site Outdoor Air Drybulb Temperature [C](TimeStep)\n",
      "2 THERMAL ZONE: JORGE:Zone Mean Air Temperature [C](TimeStep)\n"
     ]
    }
   ],
   "source": [
    "nombres = np.genfromtxt('../idf/cubiculo_original/cubiculo.csv',dtype='U',delimiter=',',max_rows=1,)\n",
    "nombres\n",
    "\n",
    "for i,nombre in enumerate(nombres):\n",
    "    print(i,nombre)\n",
    "    \n",
    "nombres[0]  = 'tiempo'\n",
    "nombres[1]  = 'To'\n",
    "nombres[2]  = 'Ti'"
   ]
  },
  {
   "cell_type": "code",
   "execution_count": 7,
   "id": "fcb07469",
   "metadata": {},
   "outputs": [
    {
     "data": {
      "text/html": [
       "<div>\n",
       "<style scoped>\n",
       "    .dataframe tbody tr th:only-of-type {\n",
       "        vertical-align: middle;\n",
       "    }\n",
       "\n",
       "    .dataframe tbody tr th {\n",
       "        vertical-align: top;\n",
       "    }\n",
       "\n",
       "    .dataframe thead th {\n",
       "        text-align: right;\n",
       "    }\n",
       "</style>\n",
       "<table border=\"1\" class=\"dataframe\">\n",
       "  <thead>\n",
       "    <tr style=\"text-align: right;\">\n",
       "      <th></th>\n",
       "      <th>To</th>\n",
       "      <th>Ti</th>\n",
       "    </tr>\n",
       "    <tr>\n",
       "      <th>tiempo</th>\n",
       "      <th></th>\n",
       "      <th></th>\n",
       "    </tr>\n",
       "  </thead>\n",
       "  <tbody>\n",
       "    <tr>\n",
       "      <th>2019-05-04 00:00:00</th>\n",
       "      <td>25.4</td>\n",
       "      <td>25.659469</td>\n",
       "    </tr>\n",
       "    <tr>\n",
       "      <th>2019-05-04 00:10:00</th>\n",
       "      <td>25.0</td>\n",
       "      <td>25.584634</td>\n",
       "    </tr>\n",
       "    <tr>\n",
       "      <th>2019-05-04 00:20:00</th>\n",
       "      <td>24.9</td>\n",
       "      <td>25.519720</td>\n",
       "    </tr>\n",
       "    <tr>\n",
       "      <th>2019-05-04 00:30:00</th>\n",
       "      <td>24.6</td>\n",
       "      <td>25.488541</td>\n",
       "    </tr>\n",
       "    <tr>\n",
       "      <th>2019-05-04 00:40:00</th>\n",
       "      <td>24.7</td>\n",
       "      <td>25.441456</td>\n",
       "    </tr>\n",
       "    <tr>\n",
       "      <th>...</th>\n",
       "      <td>...</td>\n",
       "      <td>...</td>\n",
       "    </tr>\n",
       "    <tr>\n",
       "      <th>2019-06-23 23:10:00</th>\n",
       "      <td>23.6</td>\n",
       "      <td>25.081529</td>\n",
       "    </tr>\n",
       "    <tr>\n",
       "      <th>2019-06-23 23:20:00</th>\n",
       "      <td>23.4</td>\n",
       "      <td>25.002876</td>\n",
       "    </tr>\n",
       "    <tr>\n",
       "      <th>2019-06-23 23:30:00</th>\n",
       "      <td>23.3</td>\n",
       "      <td>24.924810</td>\n",
       "    </tr>\n",
       "    <tr>\n",
       "      <th>2019-06-23 23:40:00</th>\n",
       "      <td>23.5</td>\n",
       "      <td>24.874843</td>\n",
       "    </tr>\n",
       "    <tr>\n",
       "      <th>2019-06-23 23:49:59</th>\n",
       "      <td>23.3</td>\n",
       "      <td>24.831160</td>\n",
       "    </tr>\n",
       "  </tbody>\n",
       "</table>\n",
       "<p>2304 rows × 2 columns</p>\n",
       "</div>"
      ],
      "text/plain": [
       "                       To         Ti\n",
       "tiempo                              \n",
       "2019-05-04 00:00:00  25.4  25.659469\n",
       "2019-05-04 00:10:00  25.0  25.584634\n",
       "2019-05-04 00:20:00  24.9  25.519720\n",
       "2019-05-04 00:30:00  24.6  25.488541\n",
       "2019-05-04 00:40:00  24.7  25.441456\n",
       "...                   ...        ...\n",
       "2019-06-23 23:10:00  23.6  25.081529\n",
       "2019-06-23 23:20:00  23.4  25.002876\n",
       "2019-06-23 23:30:00  23.3  24.924810\n",
       "2019-06-23 23:40:00  23.5  24.874843\n",
       "2019-06-23 23:49:59  23.3  24.831160\n",
       "\n",
       "[2304 rows x 2 columns]"
      ]
     },
     "execution_count": 7,
     "metadata": {},
     "output_type": "execute_result"
    }
   ],
   "source": [
    "# Llamada de datos de e+\n",
    "simulate = pd.read_csv('../idf/cubiculo_original/cubiculo.csv',names=nombres,skiprows=1)\n",
    "simulate.tiempo = simulate.tiempo.str.replace('24:00:00','23:59:59')\n",
    "simulate.tiempo = '2019-'+simulate.tiempo\n",
    "simulate.tiempo = pd.to_datetime(simulate.tiempo,format='%Y- %m/%d %H:%M:%S')\n",
    "simulate.tiempo = simulate.tiempo-pd.Timedelta('10minute')\n",
    "simulate.set_index('tiempo',inplace=True)\n",
    "# Hago columna de dias para hacer mascara (opcional)\n",
    "#simulate['dia'] = simulate.index.day_of_week\n",
    "# solo dines de semana de simulaciones\n",
    "weekend_simu = simulate[simulate.index.day_of_week>=5]\n",
    "weekend_simu"
   ]
  },
  {
   "cell_type": "code",
   "execution_count": 11,
   "id": "4a7b795f",
   "metadata": {},
   "outputs": [
    {
     "data": {
      "text/plain": [
       "<matplotlib.collections.PathCollection at 0x22f6ecb7370>"
      ]
     },
     "execution_count": 11,
     "metadata": {},
     "output_type": "execute_result"
    },
    {
     "data": {
      "image/png": "[encoded data removed]",
      "text/plain": [
       "<Figure size 864x288 with 1 Axes>"
      ]
     },
     "metadata": {
      "needs_background": "light"
     },
     "output_type": "display_data"
    }
   ],
   "source": [
    "fig, ax = plt.subplots(figsize=(12,4))\n",
    "\n",
    "fecha1 = parse('2019-06-08') - pd.Timedelta('1D')\n",
    "fecha2 = fecha1 + pd.Timedelta('4D')\n",
    "\n",
    "ax.set_xlim(fecha1,fecha2)\n",
    "ax.scatter(weekend_data.index,weekend_data.TCAire)"
   ]
  },
  {
   "cell_type": "code",
   "execution_count": null,
   "id": "6b0e42d0",
   "metadata": {},
   "outputs": [],
   "source": []
  }
 ],
 "metadata": {
  "kernelspec": {
   "display_name": "Python 3",
   "language": "python",
   "name": "python3"
  },
  "language_info": {
   "codemirror_mode": {
    "name": "ipython",
    "version": 3
   },
   "file_extension": ".py",
   "mimetype": "text/x-python",
   "name": "python",
   "nbconvert_exporter": "python",
   "pygments_lexer": "ipython3",
   "version": "3.9.4"
  }
 },
 "nbformat": 4,
 "nbformat_minor": 5
}
