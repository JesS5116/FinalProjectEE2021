{
 "cells": [
  {
   "cell_type": "code",
   "execution_count": 1,
   "id": "63a80959",
   "metadata": {},
   "outputs": [],
   "source": [
    "import numpy as np \n",
    "import pandas as pd\n",
    "import matplotlib.pyplot as plt\n",
    "from dateutil.parser import parse\n",
    "import missingno as msno"
   ]
  },
  {
   "cell_type": "code",
   "execution_count": 7,
   "id": "7589fd38",
   "metadata": {},
   "outputs": [],
   "source": [
    "data = pd.read_csv('../002_datos/concatEsolmetRuoa.csv',index_col=0,parse_dates=True)\n",
    "weekend = data[data.index.day_of_week>=5]\n",
    "weekend = weekend.truncate(before='2019-06-08 00:00:00',after='2019-06-23 23:49:00')\n",
    "weekend.dropna(inplace=True)\n",
    "weekend.drop(['Idirecta','Iglobal','Idifusa','HR','P','ws','wd'],axis='columns',inplace=True)\n",
    "weekend.to_csv('../data/EsolmetRuoaTo.csv')"
   ]
  },
  {
   "cell_type": "code",
   "execution_count": null,
   "id": "26b81216",
   "metadata": {},
   "outputs": [],
   "source": []
  }
 ],
 "metadata": {
  "kernelspec": {
   "display_name": "Python 3",
   "language": "python",
   "name": "python3"
  },
  "language_info": {
   "codemirror_mode": {
    "name": "ipython",
    "version": 3
   },
   "file_extension": ".py",
   "mimetype": "text/x-python",
   "name": "python",
   "nbconvert_exporter": "python",
   "pygments_lexer": "ipython3",
   "version": "3.9.4"
  }
 },
 "nbformat": 4,
 "nbformat_minor": 5
}
